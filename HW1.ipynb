{
 "cells": [
  {
   "cell_type": "code",
   "execution_count": 2,
   "metadata": {},
   "outputs": [],
   "source": [
    "import numpy as np\n",
    "import pandas as pd\n",
    "from datetime import datetime\n",
    "import vectorbt as vbt\n"
   ]
  },
  {
   "cell_type": "code",
   "execution_count": 3,
   "metadata": {},
   "outputs": [
    {
     "data": {
      "text/plain": [
       "Date\n",
       "2019-01-01 00:00:00+00:00    3843.520020\n",
       "2019-01-02 00:00:00+00:00    3943.409424\n",
       "2019-01-03 00:00:00+00:00    3836.741211\n",
       "2019-01-04 00:00:00+00:00    3857.717529\n",
       "2019-01-05 00:00:00+00:00    3845.194580\n",
       "                                ...     \n",
       "2019-12-28 00:00:00+00:00    7317.990234\n",
       "2019-12-29 00:00:00+00:00    7422.652832\n",
       "2019-12-30 00:00:00+00:00    7292.995117\n",
       "2019-12-31 00:00:00+00:00    7193.599121\n",
       "2020-01-01 00:00:00+00:00    7200.174316\n",
       "Freq: D, Name: Close, Length: 366, dtype: float64"
      ]
     },
     "execution_count": 3,
     "metadata": {},
     "output_type": "execute_result"
    }
   ],
   "source": [
    "# Prepare data\n",
    "start = '2019-01-01 UTC'  # crypto is in UTC\n",
    "end = '2020-01-01 UTC'\n",
    "btc_price = vbt.YFData.download('BTC-USD', start=start, end=end).get('Close')\n",
    "\n",
    "btc_price"
   ]
  },
  {
   "cell_type": "code",
   "execution_count": null,
   "metadata": {},
   "outputs": [],
   "source": []
  }
 ],
 "metadata": {
  "kernelspec": {
   "display_name": "Python 3",
   "language": "python",
   "name": "python3"
  },
  "language_info": {
   "codemirror_mode": {
    "name": "ipython",
    "version": 3
   },
   "file_extension": ".py",
   "mimetype": "text/x-python",
   "name": "python",
   "nbconvert_exporter": "python",
   "pygments_lexer": "ipython3",
   "version": "3.8.5"
  }
 },
 "nbformat": 4,
 "nbformat_minor": 4
}
